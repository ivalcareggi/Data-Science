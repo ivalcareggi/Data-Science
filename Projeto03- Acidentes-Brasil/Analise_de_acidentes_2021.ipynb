{
  "cells": [
    {
      "cell_type": "code",
      "execution_count": 2,
      "metadata": {
        "id": "UfwmGHmVZPxg"
      },
      "outputs": [],
      "source": [
        "import gdown\n",
        "import pandas as pd\n",
        "import numpy as np\n",
        "import matplotlib.pyplot as plt\n",
        "import seaborn as sns"
      ]
    },
    {
      "cell_type": "code",
      "execution_count": 3,
      "metadata": {
        "colab": {
          "base_uri": "https://localhost:8080/"
        },
        "id": "dan22xMIY_ju",
        "outputId": "7d2de26c-1976-44eb-83ab-02247a20a532"
      },
      "outputs": [
        {
          "name": "stderr",
          "output_type": "stream",
          "text": [
            "Downloading...\n",
            "From: https://drive.google.com/uc?id=1JAzGuKYu31FeR86YMcaJqAf06ic2jxVi\n",
            "To: d:\\ProjetosProg\\gitclone\\Data-Science\\Projeto03- Acidentes-Brasil\\acidentes2021-Brasil.csv\n",
            "100%|██████████| 8.51M/8.51M [00:00<00:00, 21.3MB/s]\n"
          ]
        }
      ],
      "source": [
        "url = 'https://drive.google.com/uc?id=1JAzGuKYu31FeR86YMcaJqAf06ic2jxVi'\n",
        "output = 'acidentes2021-Brasil.csv'\n",
        "gdown.download(url, output, fuzzy=True)\n",
        "df = pd.read_csv(output, encoding='latin1', sep=';')"
      ]
    },
    {
      "cell_type": "code",
      "execution_count": 4,
      "metadata": {
        "colab": {
          "base_uri": "https://localhost:8080/",
          "height": 756
        },
        "id": "pOduuW8tWRa0",
        "outputId": "8efe08df-229f-44e9-e97b-34e059aa705b"
      },
      "outputs": [
        {
          "data": {
            "text/html": [
              "<div>\n",
              "<style scoped>\n",
              "    .dataframe tbody tr th:only-of-type {\n",
              "        vertical-align: middle;\n",
              "    }\n",
              "\n",
              "    .dataframe tbody tr th {\n",
              "        vertical-align: top;\n",
              "    }\n",
              "\n",
              "    .dataframe thead th {\n",
              "        text-align: right;\n",
              "    }\n",
              "</style>\n",
              "<table border=\"1\" class=\"dataframe\">\n",
              "  <thead>\n",
              "    <tr style=\"text-align: right;\">\n",
              "      <th></th>\n",
              "      <th>id</th>\n",
              "      <th>data_inversa</th>\n",
              "      <th>dia_semana</th>\n",
              "      <th>horario</th>\n",
              "      <th>uf</th>\n",
              "      <th>br</th>\n",
              "      <th>km</th>\n",
              "      <th>municipio</th>\n",
              "      <th>causa_acidente</th>\n",
              "      <th>tipo_acidente</th>\n",
              "      <th>...</th>\n",
              "      <th>feridos_graves</th>\n",
              "      <th>ilesos</th>\n",
              "      <th>ignorados</th>\n",
              "      <th>feridos</th>\n",
              "      <th>veiculos</th>\n",
              "      <th>latitude</th>\n",
              "      <th>longitude</th>\n",
              "      <th>regional</th>\n",
              "      <th>delegacia</th>\n",
              "      <th>uop</th>\n",
              "    </tr>\n",
              "  </thead>\n",
              "  <tbody>\n",
              "    <tr>\n",
              "      <th>0</th>\n",
              "      <td>331693</td>\n",
              "      <td>2021-01-01</td>\n",
              "      <td>sexta-feira</td>\n",
              "      <td>00:02:00</td>\n",
              "      <td>SC</td>\n",
              "      <td>101.0</td>\n",
              "      <td>314,9</td>\n",
              "      <td>LAGUNA</td>\n",
              "      <td>Ingestão de álcool pelo condutor</td>\n",
              "      <td>Colisão traseira</td>\n",
              "      <td>...</td>\n",
              "      <td>0</td>\n",
              "      <td>2</td>\n",
              "      <td>0</td>\n",
              "      <td>1</td>\n",
              "      <td>2</td>\n",
              "      <td>-28,43029392</td>\n",
              "      <td>-48,84925073</td>\n",
              "      <td>SR-SC</td>\n",
              "      <td>UOP01</td>\n",
              "      <td>DEL02</td>\n",
              "    </tr>\n",
              "    <tr>\n",
              "      <th>1</th>\n",
              "      <td>331694</td>\n",
              "      <td>2021-01-01</td>\n",
              "      <td>sexta-feira</td>\n",
              "      <td>00:15:00</td>\n",
              "      <td>PR</td>\n",
              "      <td>376.0</td>\n",
              "      <td>188</td>\n",
              "      <td>MARIALVA</td>\n",
              "      <td>Velocidade Incompatível</td>\n",
              "      <td>Colisão com objeto</td>\n",
              "      <td>...</td>\n",
              "      <td>0</td>\n",
              "      <td>0</td>\n",
              "      <td>0</td>\n",
              "      <td>2</td>\n",
              "      <td>1</td>\n",
              "      <td>-23,46634923</td>\n",
              "      <td>-51,82808011</td>\n",
              "      <td>SR-PR</td>\n",
              "      <td>UOP01</td>\n",
              "      <td>DEL09</td>\n",
              "    </tr>\n",
              "    <tr>\n",
              "      <th>2</th>\n",
              "      <td>331696</td>\n",
              "      <td>2021-01-01</td>\n",
              "      <td>sexta-feira</td>\n",
              "      <td>00:00:00</td>\n",
              "      <td>SP</td>\n",
              "      <td>116.0</td>\n",
              "      <td>110,6</td>\n",
              "      <td>TAUBATE</td>\n",
              "      <td>Demais falhas mecânicas ou elétricas</td>\n",
              "      <td>Incêndio</td>\n",
              "      <td>...</td>\n",
              "      <td>0</td>\n",
              "      <td>1</td>\n",
              "      <td>0</td>\n",
              "      <td>0</td>\n",
              "      <td>1</td>\n",
              "      <td>-23,03412614</td>\n",
              "      <td>-45,5526999</td>\n",
              "      <td>SR-SP</td>\n",
              "      <td>UOP01</td>\n",
              "      <td>DEL06</td>\n",
              "    </tr>\n",
              "    <tr>\n",
              "      <th>3</th>\n",
              "      <td>331699</td>\n",
              "      <td>2021-01-01</td>\n",
              "      <td>sexta-feira</td>\n",
              "      <td>01:20:00</td>\n",
              "      <td>SC</td>\n",
              "      <td>101.0</td>\n",
              "      <td>111</td>\n",
              "      <td>NAVEGANTES</td>\n",
              "      <td>Manobra de mudança de faixa</td>\n",
              "      <td>Colisão lateral</td>\n",
              "      <td>...</td>\n",
              "      <td>0</td>\n",
              "      <td>1</td>\n",
              "      <td>0</td>\n",
              "      <td>2</td>\n",
              "      <td>2</td>\n",
              "      <td>-26,83955734</td>\n",
              "      <td>-48,71418074</td>\n",
              "      <td>SR-SC</td>\n",
              "      <td>UOP04</td>\n",
              "      <td>DEL04</td>\n",
              "    </tr>\n",
              "    <tr>\n",
              "      <th>4</th>\n",
              "      <td>331701</td>\n",
              "      <td>2021-01-01</td>\n",
              "      <td>sexta-feira</td>\n",
              "      <td>00:30:00</td>\n",
              "      <td>PE</td>\n",
              "      <td>101.0</td>\n",
              "      <td>45,1</td>\n",
              "      <td>IGARASSU</td>\n",
              "      <td>Reação tardia ou ineficiente do condutor</td>\n",
              "      <td>Colisão traseira</td>\n",
              "      <td>...</td>\n",
              "      <td>1</td>\n",
              "      <td>1</td>\n",
              "      <td>0</td>\n",
              "      <td>1</td>\n",
              "      <td>2</td>\n",
              "      <td>-7,86521297</td>\n",
              "      <td>-34,90715176</td>\n",
              "      <td>SR-PE</td>\n",
              "      <td>UOP02</td>\n",
              "      <td>DEL01</td>\n",
              "    </tr>\n",
              "    <tr>\n",
              "      <th>...</th>\n",
              "      <td>...</td>\n",
              "      <td>...</td>\n",
              "      <td>...</td>\n",
              "      <td>...</td>\n",
              "      <td>...</td>\n",
              "      <td>...</td>\n",
              "      <td>...</td>\n",
              "      <td>...</td>\n",
              "      <td>...</td>\n",
              "      <td>...</td>\n",
              "      <td>...</td>\n",
              "      <td>...</td>\n",
              "      <td>...</td>\n",
              "      <td>...</td>\n",
              "      <td>...</td>\n",
              "      <td>...</td>\n",
              "      <td>...</td>\n",
              "      <td>...</td>\n",
              "      <td>...</td>\n",
              "      <td>...</td>\n",
              "      <td>...</td>\n",
              "    </tr>\n",
              "    <tr>\n",
              "      <th>30896</th>\n",
              "      <td>373974</td>\n",
              "      <td>2021-06-16</td>\n",
              "      <td>quarta-feira</td>\n",
              "      <td>13:15:00</td>\n",
              "      <td>BA</td>\n",
              "      <td>116.0</td>\n",
              "      <td>466</td>\n",
              "      <td>SANTO ESTEVAO</td>\n",
              "      <td>Condutor deixou de manter distância do veículo...</td>\n",
              "      <td>Colisão traseira</td>\n",
              "      <td>...</td>\n",
              "      <td>0</td>\n",
              "      <td>0</td>\n",
              "      <td>1</td>\n",
              "      <td>1</td>\n",
              "      <td>2</td>\n",
              "      <td>-12,45221025</td>\n",
              "      <td>-39,25402888</td>\n",
              "      <td>SR-BA</td>\n",
              "      <td>UOP01</td>\n",
              "      <td>DEL02</td>\n",
              "    </tr>\n",
              "    <tr>\n",
              "      <th>30897</th>\n",
              "      <td>374024</td>\n",
              "      <td>2021-06-28</td>\n",
              "      <td>segunda-feira</td>\n",
              "      <td>10:50:00</td>\n",
              "      <td>PR</td>\n",
              "      <td>277.0</td>\n",
              "      <td>576</td>\n",
              "      <td>CASCAVEL</td>\n",
              "      <td>Velocidade Incompatível</td>\n",
              "      <td>Engavetamento</td>\n",
              "      <td>...</td>\n",
              "      <td>0</td>\n",
              "      <td>6</td>\n",
              "      <td>0</td>\n",
              "      <td>2</td>\n",
              "      <td>5</td>\n",
              "      <td>-24,98692731</td>\n",
              "      <td>-53,33030208</td>\n",
              "      <td>SR-PR</td>\n",
              "      <td>UOP01</td>\n",
              "      <td>DEL04</td>\n",
              "    </tr>\n",
              "    <tr>\n",
              "      <th>30898</th>\n",
              "      <td>374224</td>\n",
              "      <td>2021-06-13</td>\n",
              "      <td>domingo</td>\n",
              "      <td>02:50:00</td>\n",
              "      <td>SP</td>\n",
              "      <td>116.0</td>\n",
              "      <td>102,7</td>\n",
              "      <td>PINDAMONHANGABA</td>\n",
              "      <td>Reação tardia ou ineficiente do condutor</td>\n",
              "      <td>Colisão traseira</td>\n",
              "      <td>...</td>\n",
              "      <td>0</td>\n",
              "      <td>0</td>\n",
              "      <td>1</td>\n",
              "      <td>1</td>\n",
              "      <td>2</td>\n",
              "      <td>-22,99497994</td>\n",
              "      <td>-45,48951403</td>\n",
              "      <td>SR-SP</td>\n",
              "      <td>UOP01</td>\n",
              "      <td>DEL08</td>\n",
              "    </tr>\n",
              "    <tr>\n",
              "      <th>30899</th>\n",
              "      <td>374239</td>\n",
              "      <td>2021-06-02</td>\n",
              "      <td>quarta-feira</td>\n",
              "      <td>08:45:00</td>\n",
              "      <td>RN</td>\n",
              "      <td>101.0</td>\n",
              "      <td>85</td>\n",
              "      <td>NATAL</td>\n",
              "      <td>Velocidade Incompatível</td>\n",
              "      <td>Colisão traseira</td>\n",
              "      <td>...</td>\n",
              "      <td>1</td>\n",
              "      <td>1</td>\n",
              "      <td>0</td>\n",
              "      <td>1</td>\n",
              "      <td>2</td>\n",
              "      <td>-5,777664</td>\n",
              "      <td>-35,24937</td>\n",
              "      <td>SR-RN</td>\n",
              "      <td>UOP01</td>\n",
              "      <td>DEL02</td>\n",
              "    </tr>\n",
              "    <tr>\n",
              "      <th>30900</th>\n",
              "      <td>374253</td>\n",
              "      <td>2021-01-01</td>\n",
              "      <td>sexta-feira</td>\n",
              "      <td>17:40:00</td>\n",
              "      <td>RN</td>\n",
              "      <td>101.0</td>\n",
              "      <td>78,4</td>\n",
              "      <td>NATAL</td>\n",
              "      <td>Manobra de mudança de faixa</td>\n",
              "      <td>Capotamento</td>\n",
              "      <td>...</td>\n",
              "      <td>1</td>\n",
              "      <td>0</td>\n",
              "      <td>0</td>\n",
              "      <td>1</td>\n",
              "      <td>1</td>\n",
              "      <td>-5,74071896</td>\n",
              "      <td>-35,29021064</td>\n",
              "      <td>SR-RN</td>\n",
              "      <td>UOP01</td>\n",
              "      <td>DEL02</td>\n",
              "    </tr>\n",
              "  </tbody>\n",
              "</table>\n",
              "<p>30901 rows × 30 columns</p>\n",
              "</div>"
            ],
            "text/plain": [
              "           id data_inversa     dia_semana   horario  uf     br     km  \\\n",
              "0      331693   2021-01-01    sexta-feira  00:02:00  SC  101.0  314,9   \n",
              "1      331694   2021-01-01    sexta-feira  00:15:00  PR  376.0    188   \n",
              "2      331696   2021-01-01    sexta-feira  00:00:00  SP  116.0  110,6   \n",
              "3      331699   2021-01-01    sexta-feira  01:20:00  SC  101.0    111   \n",
              "4      331701   2021-01-01    sexta-feira  00:30:00  PE  101.0   45,1   \n",
              "...       ...          ...            ...       ...  ..    ...    ...   \n",
              "30896  373974   2021-06-16   quarta-feira  13:15:00  BA  116.0    466   \n",
              "30897  374024   2021-06-28  segunda-feira  10:50:00  PR  277.0    576   \n",
              "30898  374224   2021-06-13        domingo  02:50:00  SP  116.0  102,7   \n",
              "30899  374239   2021-06-02   quarta-feira  08:45:00  RN  101.0     85   \n",
              "30900  374253   2021-01-01    sexta-feira  17:40:00  RN  101.0   78,4   \n",
              "\n",
              "             municipio                                     causa_acidente  \\\n",
              "0               LAGUNA                   Ingestão de álcool pelo condutor   \n",
              "1             MARIALVA                            Velocidade Incompatível   \n",
              "2              TAUBATE               Demais falhas mecânicas ou elétricas   \n",
              "3           NAVEGANTES                        Manobra de mudança de faixa   \n",
              "4             IGARASSU           Reação tardia ou ineficiente do condutor   \n",
              "...                ...                                                ...   \n",
              "30896    SANTO ESTEVAO  Condutor deixou de manter distância do veículo...   \n",
              "30897         CASCAVEL                            Velocidade Incompatível   \n",
              "30898  PINDAMONHANGABA           Reação tardia ou ineficiente do condutor   \n",
              "30899            NATAL                            Velocidade Incompatível   \n",
              "30900            NATAL                        Manobra de mudança de faixa   \n",
              "\n",
              "            tipo_acidente  ... feridos_graves ilesos ignorados feridos  \\\n",
              "0        Colisão traseira  ...              0      2         0       1   \n",
              "1      Colisão com objeto  ...              0      0         0       2   \n",
              "2                Incêndio  ...              0      1         0       0   \n",
              "3         Colisão lateral  ...              0      1         0       2   \n",
              "4        Colisão traseira  ...              1      1         0       1   \n",
              "...                   ...  ...            ...    ...       ...     ...   \n",
              "30896    Colisão traseira  ...              0      0         1       1   \n",
              "30897       Engavetamento  ...              0      6         0       2   \n",
              "30898    Colisão traseira  ...              0      0         1       1   \n",
              "30899    Colisão traseira  ...              1      1         0       1   \n",
              "30900         Capotamento  ...              1      0         0       1   \n",
              "\n",
              "      veiculos      latitude     longitude  regional  delegacia    uop  \n",
              "0            2  -28,43029392  -48,84925073     SR-SC      UOP01  DEL02  \n",
              "1            1  -23,46634923  -51,82808011     SR-PR      UOP01  DEL09  \n",
              "2            1  -23,03412614   -45,5526999     SR-SP      UOP01  DEL06  \n",
              "3            2  -26,83955734  -48,71418074     SR-SC      UOP04  DEL04  \n",
              "4            2   -7,86521297  -34,90715176     SR-PE      UOP02  DEL01  \n",
              "...        ...           ...           ...       ...        ...    ...  \n",
              "30896        2  -12,45221025  -39,25402888     SR-BA      UOP01  DEL02  \n",
              "30897        5  -24,98692731  -53,33030208     SR-PR      UOP01  DEL04  \n",
              "30898        2  -22,99497994  -45,48951403     SR-SP      UOP01  DEL08  \n",
              "30899        2     -5,777664     -35,24937     SR-RN      UOP01  DEL02  \n",
              "30900        1   -5,74071896  -35,29021064     SR-RN      UOP01  DEL02  \n",
              "\n",
              "[30901 rows x 30 columns]"
            ]
          },
          "execution_count": 4,
          "metadata": {},
          "output_type": "execute_result"
        }
      ],
      "source": [
        "df"
      ]
    },
    {
      "cell_type": "code",
      "execution_count": 5,
      "metadata": {},
      "outputs": [
        {
          "data": {
            "text/html": [
              "<div>\n",
              "<style scoped>\n",
              "    .dataframe tbody tr th:only-of-type {\n",
              "        vertical-align: middle;\n",
              "    }\n",
              "\n",
              "    .dataframe tbody tr th {\n",
              "        vertical-align: top;\n",
              "    }\n",
              "\n",
              "    .dataframe thead th {\n",
              "        text-align: right;\n",
              "    }\n",
              "</style>\n",
              "<table border=\"1\" class=\"dataframe\">\n",
              "  <thead>\n",
              "    <tr style=\"text-align: right;\">\n",
              "      <th></th>\n",
              "      <th>id</th>\n",
              "      <th>br</th>\n",
              "      <th>pessoas</th>\n",
              "      <th>mortos</th>\n",
              "      <th>feridos_leves</th>\n",
              "      <th>feridos_graves</th>\n",
              "      <th>ilesos</th>\n",
              "      <th>ignorados</th>\n",
              "      <th>feridos</th>\n",
              "      <th>veiculos</th>\n",
              "    </tr>\n",
              "  </thead>\n",
              "  <tbody>\n",
              "    <tr>\n",
              "      <th>count</th>\n",
              "      <td>30901.000000</td>\n",
              "      <td>30817.000000</td>\n",
              "      <td>30901.000000</td>\n",
              "      <td>30901.000000</td>\n",
              "      <td>30901.000000</td>\n",
              "      <td>30901.000000</td>\n",
              "      <td>30901.000000</td>\n",
              "      <td>30901.000000</td>\n",
              "      <td>30901.000000</td>\n",
              "      <td>30901.000000</td>\n",
              "    </tr>\n",
              "    <tr>\n",
              "      <th>mean</th>\n",
              "      <td>350106.758131</td>\n",
              "      <td>209.650810</td>\n",
              "      <td>2.295589</td>\n",
              "      <td>0.079933</td>\n",
              "      <td>0.835216</td>\n",
              "      <td>0.266755</td>\n",
              "      <td>0.959516</td>\n",
              "      <td>0.154170</td>\n",
              "      <td>1.101971</td>\n",
              "      <td>1.649817</td>\n",
              "    </tr>\n",
              "    <tr>\n",
              "      <th>std</th>\n",
              "      <td>10502.957089</td>\n",
              "      <td>130.906088</td>\n",
              "      <td>1.609057</td>\n",
              "      <td>0.327912</td>\n",
              "      <td>0.933395</td>\n",
              "      <td>0.585591</td>\n",
              "      <td>1.312923</td>\n",
              "      <td>0.420184</td>\n",
              "      <td>1.016079</td>\n",
              "      <td>0.710432</td>\n",
              "    </tr>\n",
              "    <tr>\n",
              "      <th>min</th>\n",
              "      <td>331693.000000</td>\n",
              "      <td>10.000000</td>\n",
              "      <td>1.000000</td>\n",
              "      <td>0.000000</td>\n",
              "      <td>0.000000</td>\n",
              "      <td>0.000000</td>\n",
              "      <td>0.000000</td>\n",
              "      <td>0.000000</td>\n",
              "      <td>0.000000</td>\n",
              "      <td>1.000000</td>\n",
              "    </tr>\n",
              "    <tr>\n",
              "      <th>25%</th>\n",
              "      <td>341090.000000</td>\n",
              "      <td>101.000000</td>\n",
              "      <td>1.000000</td>\n",
              "      <td>0.000000</td>\n",
              "      <td>0.000000</td>\n",
              "      <td>0.000000</td>\n",
              "      <td>0.000000</td>\n",
              "      <td>0.000000</td>\n",
              "      <td>1.000000</td>\n",
              "      <td>1.000000</td>\n",
              "    </tr>\n",
              "    <tr>\n",
              "      <th>50%</th>\n",
              "      <td>350200.000000</td>\n",
              "      <td>153.000000</td>\n",
              "      <td>2.000000</td>\n",
              "      <td>0.000000</td>\n",
              "      <td>1.000000</td>\n",
              "      <td>0.000000</td>\n",
              "      <td>1.000000</td>\n",
              "      <td>0.000000</td>\n",
              "      <td>1.000000</td>\n",
              "      <td>2.000000</td>\n",
              "    </tr>\n",
              "    <tr>\n",
              "      <th>75%</th>\n",
              "      <td>359111.000000</td>\n",
              "      <td>324.000000</td>\n",
              "      <td>3.000000</td>\n",
              "      <td>0.000000</td>\n",
              "      <td>1.000000</td>\n",
              "      <td>0.000000</td>\n",
              "      <td>1.000000</td>\n",
              "      <td>0.000000</td>\n",
              "      <td>1.000000</td>\n",
              "      <td>2.000000</td>\n",
              "    </tr>\n",
              "    <tr>\n",
              "      <th>max</th>\n",
              "      <td>374253.000000</td>\n",
              "      <td>495.000000</td>\n",
              "      <td>57.000000</td>\n",
              "      <td>19.000000</td>\n",
              "      <td>31.000000</td>\n",
              "      <td>23.000000</td>\n",
              "      <td>53.000000</td>\n",
              "      <td>8.000000</td>\n",
              "      <td>33.000000</td>\n",
              "      <td>11.000000</td>\n",
              "    </tr>\n",
              "  </tbody>\n",
              "</table>\n",
              "</div>"
            ],
            "text/plain": [
              "                  id            br       pessoas        mortos  feridos_leves  \\\n",
              "count   30901.000000  30817.000000  30901.000000  30901.000000   30901.000000   \n",
              "mean   350106.758131    209.650810      2.295589      0.079933       0.835216   \n",
              "std     10502.957089    130.906088      1.609057      0.327912       0.933395   \n",
              "min    331693.000000     10.000000      1.000000      0.000000       0.000000   \n",
              "25%    341090.000000    101.000000      1.000000      0.000000       0.000000   \n",
              "50%    350200.000000    153.000000      2.000000      0.000000       1.000000   \n",
              "75%    359111.000000    324.000000      3.000000      0.000000       1.000000   \n",
              "max    374253.000000    495.000000     57.000000     19.000000      31.000000   \n",
              "\n",
              "       feridos_graves        ilesos     ignorados       feridos      veiculos  \n",
              "count    30901.000000  30901.000000  30901.000000  30901.000000  30901.000000  \n",
              "mean         0.266755      0.959516      0.154170      1.101971      1.649817  \n",
              "std          0.585591      1.312923      0.420184      1.016079      0.710432  \n",
              "min          0.000000      0.000000      0.000000      0.000000      1.000000  \n",
              "25%          0.000000      0.000000      0.000000      1.000000      1.000000  \n",
              "50%          0.000000      1.000000      0.000000      1.000000      2.000000  \n",
              "75%          0.000000      1.000000      0.000000      1.000000      2.000000  \n",
              "max         23.000000     53.000000      8.000000     33.000000     11.000000  "
            ]
          },
          "execution_count": 5,
          "metadata": {},
          "output_type": "execute_result"
        }
      ],
      "source": [
        "df.describe()"
      ]
    },
    {
      "cell_type": "code",
      "execution_count": 6,
      "metadata": {},
      "outputs": [
        {
          "data": {
            "text/plain": [
              "id                         0\n",
              "data_inversa               0\n",
              "dia_semana                 0\n",
              "horario                    0\n",
              "uf                         0\n",
              "br                        84\n",
              "km                        84\n",
              "municipio                  0\n",
              "causa_acidente             0\n",
              "tipo_acidente              0\n",
              "classificacao_acidente     0\n",
              "fase_dia                   0\n",
              "sentido_via                0\n",
              "condicao_metereologica     0\n",
              "tipo_pista                 0\n",
              "tracado_via                0\n",
              "uso_solo                   0\n",
              "pessoas                    0\n",
              "mortos                     0\n",
              "feridos_leves              0\n",
              "feridos_graves             0\n",
              "ilesos                     0\n",
              "ignorados                  0\n",
              "feridos                    0\n",
              "veiculos                   0\n",
              "latitude                   0\n",
              "longitude                  0\n",
              "regional                   0\n",
              "delegacia                  0\n",
              "uop                        0\n",
              "dtype: int64"
            ]
          },
          "execution_count": 6,
          "metadata": {},
          "output_type": "execute_result"
        }
      ],
      "source": [
        "df.isna().sum()"
      ]
    },
    {
      "cell_type": "code",
      "execution_count": 7,
      "metadata": {},
      "outputs": [
        {
          "data": {
            "text/plain": [
              "Index(['id', 'data_inversa', 'dia_semana', 'horario', 'uf', 'br', 'km',\n",
              "       'municipio', 'causa_acidente', 'tipo_acidente',\n",
              "       'classificacao_acidente', 'fase_dia', 'sentido_via',\n",
              "       'condicao_metereologica', 'tipo_pista', 'tracado_via', 'uso_solo',\n",
              "       'pessoas', 'mortos', 'feridos_leves', 'feridos_graves', 'ilesos',\n",
              "       'ignorados', 'feridos', 'veiculos', 'latitude', 'longitude', 'regional',\n",
              "       'delegacia', 'uop'],\n",
              "      dtype='object')"
            ]
          },
          "execution_count": 7,
          "metadata": {},
          "output_type": "execute_result"
        }
      ],
      "source": [
        "df.columns"
      ]
    },
    {
      "cell_type": "markdown",
      "metadata": {},
      "source": [
        "Perguntas: Qual a distribuição da condição de feridos, mortos e ilesos\n"
      ]
    },
    {
      "cell_type": "code",
      "execution_count": 8,
      "metadata": {},
      "outputs": [],
      "source": [
        "soma_feridos = df['feridos'].sum()"
      ]
    },
    {
      "cell_type": "code",
      "execution_count": 9,
      "metadata": {},
      "outputs": [
        {
          "data": {
            "text/plain": [
              "np.int64(34052)"
            ]
          },
          "execution_count": 9,
          "metadata": {},
          "output_type": "execute_result"
        }
      ],
      "source": [
        "soma_feridos"
      ]
    },
    {
      "cell_type": "code",
      "execution_count": 10,
      "metadata": {},
      "outputs": [
        {
          "data": {
            "text/plain": [
              "np.int64(25809)"
            ]
          },
          "execution_count": 10,
          "metadata": {},
          "output_type": "execute_result"
        }
      ],
      "source": [
        "soma_feridos_leves = df['feridos_leves'].sum()\n",
        "soma_feridos_leves"
      ]
    },
    {
      "cell_type": "code",
      "execution_count": 11,
      "metadata": {},
      "outputs": [
        {
          "data": {
            "text/plain": [
              "np.int64(8243)"
            ]
          },
          "execution_count": 11,
          "metadata": {},
          "output_type": "execute_result"
        }
      ],
      "source": [
        "soma_feridos_graves = df['feridos_graves'].sum()\n",
        "soma_feridos_graves"
      ]
    },
    {
      "cell_type": "code",
      "execution_count": 12,
      "metadata": {},
      "outputs": [
        {
          "data": {
            "text/plain": [
              "np.int64(2470)"
            ]
          },
          "execution_count": 12,
          "metadata": {},
          "output_type": "execute_result"
        }
      ],
      "source": [
        "soma_mortos = df['mortos'].sum()\n",
        "soma_mortos"
      ]
    },
    {
      "cell_type": "code",
      "execution_count": 13,
      "metadata": {},
      "outputs": [
        {
          "data": {
            "text/plain": [
              "np.int64(29650)"
            ]
          },
          "execution_count": 13,
          "metadata": {},
          "output_type": "execute_result"
        }
      ],
      "source": [
        "soma_ilesos = df['ilesos'].sum()\n",
        "soma_ilesos"
      ]
    },
    {
      "cell_type": "code",
      "execution_count": 14,
      "metadata": {},
      "outputs": [],
      "source": [
        "valores = [soma_feridos_leves, soma_feridos_graves, soma_mortos, soma_ilesos]\n",
        "labels = [ 'Feridos Leves', 'Feridos Graves', 'Mortos', 'Ilesos']"
      ]
    },
    {
      "cell_type": "code",
      "execution_count": 15,
      "metadata": {},
      "outputs": [
        {
          "data": {
            "text/plain": [
              "([<matplotlib.patches.Wedge at 0x163b6d2e390>,\n",
              "  <matplotlib.patches.Wedge at 0x163b681d7c0>,\n",
              "  <matplotlib.patches.Wedge at 0x163b6d68980>,\n",
              "  <matplotlib.patches.Wedge at 0x163b6d69040>],\n",
              " [Text(0.3725173036762955, 1.0350028301708856, 'Feridos Leves'),\n",
              "  Text(-1.0509929495317964, 0.32467494519050166, 'Feridos Graves'),\n",
              "  Text(-1.0760650686892288, -0.2282191226581274, 'Mortos'),\n",
              "  Text(0.1786464370768653, -1.0853964485475995, 'Ilesos')],\n",
              " [Text(0.2031912565507066, 0.5645469982750284, '39.0%'),\n",
              "  Text(-0.573268881562798, 0.1770954246493645, '12.5%'),\n",
              "  Text(-0.5869445829213975, -0.12448315781352402, '3.7%'),\n",
              "  Text(0.09744351113283561, -0.5920344264805087, '44.8%')])"
            ]
          },
          "execution_count": 15,
          "metadata": {},
          "output_type": "execute_result"
        },
        {
          "data": {
            "image/png": "[encoded data removed]",
            "text/plain": [
              "<Figure size 640x480 with 1 Axes>"
            ]
          },
          "metadata": {},
          "output_type": "display_data"
        }
      ],
      "source": [
        "plt.pie(valores, labels = labels, autopct='%1.1f%%')"
      ]
    },
    {
      "cell_type": "markdown",
      "metadata": {},
      "source": [
        "Quais as distribuições dos tipos de colisões?"
      ]
    },
    {
      "cell_type": "code",
      "execution_count": 16,
      "metadata": {},
      "outputs": [
        {
          "data": {
            "text/plain": [
              "tipo_acidente\n",
              "Colisão traseira                  5868\n",
              "Saída de leito carroçável         5033\n",
              "Colisão transversal               3858\n",
              "Tombamento                        2724\n",
              "Colisão lateral mesmo sentido     2407\n",
              "Colisão com objeto                2315\n",
              "Colisão frontal                   2096\n",
              "Atropelamento de Pedestre         1360\n",
              "Queda de ocupante de veículo      1286\n",
              "Capotamento                        842\n",
              "Colisão lateral sentido oposto     735\n",
              "Colisão lateral                    677\n",
              "Incêndio                           553\n",
              "Engavetamento                      479\n",
              "Atropelamento de Animal            464\n",
              "Eventos atípicos                   129\n",
              "Derramamento de carga               75\n",
              "Name: count, dtype: int64"
            ]
          },
          "execution_count": 16,
          "metadata": {},
          "output_type": "execute_result"
        }
      ],
      "source": [
        "quant_colisoes = df['tipo_acidente'].value_counts()\n",
        "quant_colisoes"
      ]
    },
    {
      "cell_type": "code",
      "execution_count": 17,
      "metadata": {},
      "outputs": [
        {
          "data": {
            "text/plain": [
              "([<matplotlib.patches.Wedge at 0x163b6d81850>,\n",
              "  <matplotlib.patches.Wedge at 0x163b6dacc80>,\n",
              "  <matplotlib.patches.Wedge at 0x163a3e28410>,\n",
              "  <matplotlib.patches.Wedge at 0x163a3e28aa0>,\n",
              "  <matplotlib.patches.Wedge at 0x163a3e291c0>,\n",
              "  <matplotlib.patches.Wedge at 0x163a3e298e0>,\n",
              "  <matplotlib.patches.Wedge at 0x163a3e29f70>,\n",
              "  <matplotlib.patches.Wedge at 0x163a3e2a5d0>,\n",
              "  <matplotlib.patches.Wedge at 0x163a3e2ac60>,\n",
              "  <matplotlib.patches.Wedge at 0x163a3e2b2f0>,\n",
              "  <matplotlib.patches.Wedge at 0x163a3e2b950>,\n",
              "  <matplotlib.patches.Wedge at 0x163a3e58080>,\n",
              "  <matplotlib.patches.Wedge at 0x163a3e58710>,\n",
              "  <matplotlib.patches.Wedge at 0x163a3e58e00>,\n",
              "  <matplotlib.patches.Wedge at 0x163a3e594c0>,\n",
              "  <matplotlib.patches.Wedge at 0x163a3e59bb0>,\n",
              "  <matplotlib.patches.Wedge at 0x163a3e5a210>],\n",
              " [Text(0.909989098445398, 0.6179966348699095, 'Colisão traseira'),\n",
              "  Text(-0.14701072500797066, 1.0901320317891, 'Saída de leito carroçável'),\n",
              "  Text(-0.9475084375932653, 0.5587734430782921, 'Colisão transversal'),\n",
              "  Text(-1.089792849672385, -0.14950433038190727, 'Tombamento'),\n",
              "  Text(-0.8703486231076897, -0.6726762031278859, 'Colisão lateral mesmo sentido'),\n",
              "  Text(-0.4612983608145807, -0.9986009324598997, 'Colisão com objeto'),\n",
              "  Text(0.01727754473905402, -1.0998643036519506, 'Colisão frontal'),\n",
              "  Text(0.39476667995146153, -1.0267225859014208, 'Atropelamento de Pedestre'),\n",
              "  Text(0.6534473359161903, -0.8848765898044956, 'Queda de ocupante de veículo'),\n",
              "  Text(0.8281641824264362, -0.7239779602625709, 'Capotamento'),\n",
              "  Text(0.9331201992994704, -0.582483213199588, 'Colisão lateral sentido oposto'),\n",
              "  Text(1.0068522999705025, -0.44299937476717666, 'Colisão lateral'),\n",
              "  Text(1.0542430529100237, -0.31396112082701083, 'Incêndio'),\n",
              "  Text(1.0813260909252307, -0.20182637360949604, 'Engavetamento'),\n",
              "  Text(1.0956802403679695, -0.09738999367075167, 'Atropelamento de Animal'),\n",
              "  Text(1.0995575453837103, -0.03119622396621112, 'Eventos atípicos'),\n",
              "  Text(1.0999680314120945, -0.008386290681921241, 'Derramamento de carga')],\n",
              " [Text(0.49635769006112607, 0.33708907356540513, '19.0%'),\n",
              "  Text(-0.08018766818616581, 0.5946174718849635, '16.3%'),\n",
              "  Text(-0.516822784141781, 0.30478551440634116, '12.5%'),\n",
              "  Text(-0.5944324634576645, -0.08154781657194941, '8.8%'),\n",
              "  Text(-0.47473561260419433, -0.3669142926152104, '7.8%'),\n",
              "  Text(-0.251617287717044, -0.5446914177053997, '7.5%'),\n",
              "  Text(0.009424115312211283, -0.5999259838101548, '6.8%'),\n",
              "  Text(0.21532727997352444, -0.5600305014007749, '4.4%'),\n",
              "  Text(0.35642581959064923, -0.48265995807517936, '4.2%'),\n",
              "  Text(0.451725917687147, -0.39489706923412954, '2.7%'),\n",
              "  Text(0.5089746541633474, -0.3177181162906843, '2.4%'),\n",
              "  Text(0.549192163620274, -0.24163602260027814, '2.2%'),\n",
              "  Text(0.5750416652236493, -0.17125152045109682, '1.8%'),\n",
              "  Text(0.5898142314137621, -0.11008711287790691, '1.6%'),\n",
              "  Text(0.5976437674734378, -0.05312181472950091, '1.5%'),\n",
              "  Text(0.5997586611183874, -0.01701612216338788, '0.4%'),\n",
              "  Text(0.5999825625884151, -0.00457434037195704, '0.2%')])"
            ]
          },
          "execution_count": 17,
          "metadata": {},
          "output_type": "execute_result"
        },
        {
          "data": {
            "image/png": "[encoded data removed]",
            "text/plain": [
              "<Figure size 640x480 with 1 Axes>"
            ]
          },
          "metadata": {},
          "output_type": "display_data"
        }
      ],
      "source": [
        "labels = ['Colisão traseira', 'Saída de leito carroçável', 'Colisão transversal', 'Tombamento','Colisão lateral mesmo sentido','Colisão com objeto','Colisão frontal', 'Atropelamento de Pedestre','Queda de ocupante de veículo','Capotamento','Colisão lateral sentido oposto','Colisão lateral', 'Incêndio','Engavetamento','Atropelamento de Animal','Eventos atípicos' ,'Derramamento de carga']\n",
        "plt.pie(quant_colisoes, labels = labels, autopct='%1.1f%%' )"
      ]
    },
    {
      "cell_type": "markdown",
      "metadata": {},
      "source": [
        "Usando plotly para um gráfico mais visível e interativo "
      ]
    },
    {
      "cell_type": "code",
      "execution_count": 18,
      "metadata": {},
      "outputs": [
        {
          "data": {
            "application/vnd.plotly.v1+json": {
              "config": {
                "plotlyServerURL": "https://plot.ly"
              },
              "data": [
                {
                  "hoverinfo": "label+percent",
                  "labels": [
                    "Colisão traseira",
                    "Saída de leito carroçável",
                    "Colisão transversal",
                    "Tombamento",
                    "Colisão lateral mesmo sentido",
                    "Colisão com objeto",
                    "Colisão frontal",
                    "Atropelamento de Pedestre",
                    "Queda de ocupante de veículo",
                    "Capotamento",
                    "Colisão lateral sentido oposto",
                    "Colisão lateral",
                    "Incêndio",
                    "Engavetamento",
                    "Atropelamento de Animal",
                    "Eventos atípicos",
                    "Derramamento de carga"
                  ],
                  "textfont": {
                    "size": 15
                  },
                  "textinfo": "percent+label",
                  "type": "pie",
                  "values": {
                    "bdata": "7BapExIPpApnCQsJMAhQBQYFSgPfAqUCKQLfAdABgQBLAA==",
                    "dtype": "i2"
                  }
                }
              ],
              "layout": {
                "template": {
                  "data": {
                    "bar": [
                      {
                        "error_x": {
                          "color": "#2a3f5f"
                        },
                        "error_y": {
                          "color": "#2a3f5f"
                        },
                        "marker": {
                          "line": {
                            "color": "#E5ECF6",
                            "width": 0.5
                          },
                          "pattern": {
                            "fillmode": "overlay",
                            "size": 10,
                            "solidity": 0.2
                          }
                        },
                        "type": "bar"
                      }
                    ],
                    "barpolar": [
                      {
                        "marker": {
                          "line": {
                            "color": "#E5ECF6",
                            "width": 0.5
                          },
                          "pattern": {
                            "fillmode": "overlay",
                            "size": 10,
                            "solidity": 0.2
                          }
                        },
                        "type": "barpolar"
                      }
                    ],
                    "carpet": [
                      {
                        "aaxis": {
                          "endlinecolor": "#2a3f5f",
                          "gridcolor": "white",
                          "linecolor": "white",
                          "minorgridcolor": "white",
                          "startlinecolor": "#2a3f5f"
                        },
                        "baxis": {
                          "endlinecolor": "#2a3f5f",
                          "gridcolor": "white",
                          "linecolor": "white",
                          "minorgridcolor": "white",
                          "startlinecolor": "#2a3f5f"
                        },
                        "type": "carpet"
                      }
                    ],
                    "choropleth": [
                      {
                        "colorbar": {
                          "outlinewidth": 0,
                          "ticks": ""
                        },
                        "type": "choropleth"
                      }
                    ],
                    "contour": [
                      {
                        "colorbar": {
                          "outlinewidth": 0,
                          "ticks": ""
                        },
                        "colorscale": [
                          [
                            0,
                            "#0d0887"
                          ],
                          [
                            0.1111111111111111,
                            "#46039f"
                          ],
                          [
                            0.2222222222222222,
                            "#7201a8"
                          ],
                          [
                            0.3333333333333333,
                            "#9c179e"
                          ],
                          [
                            0.4444444444444444,
                            "#bd3786"
                          ],
                          [
                            0.5555555555555556,
                            "#d8576b"
                          ],
                          [
                            0.6666666666666666,
                            "#ed7953"
                          ],
                          [
                            0.7777777777777778,
                            "#fb9f3a"
                          ],
                          [
                            0.8888888888888888,
                            "#fdca26"
                          ],
                          [
                            1,
                            "#f0f921"
                          ]
                        ],
                        "type": "contour"
                      }
                    ],
                    "contourcarpet": [
                      {
                        "colorbar": {
                          "outlinewidth": 0,
                          "ticks": ""
                        },
                        "type": "contourcarpet"
                      }
                    ],
                    "heatmap": [
                      {
                        "colorbar": {
                          "outlinewidth": 0,
                          "ticks": ""
                        },
                        "colorscale": [
                          [
                            0,
                            "#0d0887"
                          ],
                          [
                            0.1111111111111111,
                            "#46039f"
                          ],
                          [
                            0.2222222222222222,
                            "#7201a8"
                          ],
                          [
                            0.3333333333333333,
                            "#9c179e"
                          ],
                          [
                            0.4444444444444444,
                            "#bd3786"
                          ],
                          [
                            0.5555555555555556,
                            "#d8576b"
                          ],
                          [
                            0.6666666666666666,
                            "#ed7953"
                          ],
                          [
                            0.7777777777777778,
                            "#fb9f3a"
                          ],
                          [
                            0.8888888888888888,
                            "#fdca26"
                          ],
                          [
                            1,
                            "#f0f921"
                          ]
                        ],
                        "type": "heatmap"
                      }
                    ],
                    "histogram": [
                      {
                        "marker": {
                          "pattern": {
                            "fillmode": "overlay",
                            "size": 10,
                            "solidity": 0.2
                          }
                        },
                        "type": "histogram"
                      }
                    ],
                    "histogram2d": [
                      {
                        "colorbar": {
                          "outlinewidth": 0,
                          "ticks": ""
                        },
                        "colorscale": [
                          [
                            0,
                            "#0d0887"
                          ],
                          [
                            0.1111111111111111,
                            "#46039f"
                          ],
                          [
                            0.2222222222222222,
                            "#7201a8"
                          ],
                          [
                            0.3333333333333333,
                            "#9c179e"
                          ],
                          [
                            0.4444444444444444,
                            "#bd3786"
                          ],
                          [
                            0.5555555555555556,
                            "#d8576b"
                          ],
                          [
                            0.6666666666666666,
                            "#ed7953"
                          ],
                          [
                            0.7777777777777778,
                            "#fb9f3a"
                          ],
                          [
                            0.8888888888888888,
                            "#fdca26"
                          ],
                          [
                            1,
                            "#f0f921"
                          ]
                        ],
                        "type": "histogram2d"
                      }
                    ],
                    "histogram2dcontour": [
                      {
                        "colorbar": {
                          "outlinewidth": 0,
                          "ticks": ""
                        },
                        "colorscale": [
                          [
                            0,
                            "#0d0887"
                          ],
                          [
                            0.1111111111111111,
                            "#46039f"
                          ],
                          [
                            0.2222222222222222,
                            "#7201a8"
                          ],
                          [
                            0.3333333333333333,
                            "#9c179e"
                          ],
                          [
                            0.4444444444444444,
                            "#bd3786"
                          ],
                          [
                            0.5555555555555556,
                            "#d8576b"
                          ],
                          [
                            0.6666666666666666,
                            "#ed7953"
                          ],
                          [
                            0.7777777777777778,
                            "#fb9f3a"
                          ],
                          [
                            0.8888888888888888,
                            "#fdca26"
                          ],
                          [
                            1,
                            "#f0f921"
                          ]
                        ],
                        "type": "histogram2dcontour"
                      }
                    ],
                    "mesh3d": [
                      {
                        "colorbar": {
                          "outlinewidth": 0,
                          "ticks": ""
                        },
                        "type": "mesh3d"
                      }
                    ],
                    "parcoords": [
                      {
                        "line": {
                          "colorbar": {
                            "outlinewidth": 0,
                            "ticks": ""
                          }
                        },
                        "type": "parcoords"
                      }
                    ],
                    "pie": [
                      {
                        "automargin": true,
                        "type": "pie"
                      }
                    ],
                    "scatter": [
                      {
                        "fillpattern": {
                          "fillmode": "overlay",
                          "size": 10,
                          "solidity": 0.2
                        },
                        "type": "scatter"
                      }
                    ],
                    "scatter3d": [
                      {
                        "line": {
                          "colorbar": {
                            "outlinewidth": 0,
                            "ticks": ""
                          }
                        },
                        "marker": {
                          "colorbar": {
                            "outlinewidth": 0,
                            "ticks": ""
                          }
                        },
                        "type": "scatter3d"
                      }
                    ],
                    "scattercarpet": [
                      {
                        "marker": {
                          "colorbar": {
                            "outlinewidth": 0,
                            "ticks": ""
                          }
                        },
                        "type": "scattercarpet"
                      }
                    ],
                    "scattergeo": [
                      {
                        "marker": {
                          "colorbar": {
                            "outlinewidth": 0,
                            "ticks": ""
                          }
                        },
                        "type": "scattergeo"
                      }
                    ],
                    "scattergl": [
                      {
                        "marker": {
                          "colorbar": {
                            "outlinewidth": 0,
                            "ticks": ""
                          }
                        },
                        "type": "scattergl"
                      }
                    ],
                    "scattermap": [
                      {
                        "marker": {
                          "colorbar": {
                            "outlinewidth": 0,
                            "ticks": ""
                          }
                        },
                        "type": "scattermap"
                      }
                    ],
                    "scattermapbox": [
                      {
                        "marker": {
                          "colorbar": {
                            "outlinewidth": 0,
                            "ticks": ""
                          }
                        },
                        "type": "scattermapbox"
                      }
                    ],
                    "scatterpolar": [
                      {
                        "marker": {
                          "colorbar": {
                            "outlinewidth": 0,
                            "ticks": ""
                          }
                        },
                        "type": "scatterpolar"
                      }
                    ],
                    "scatterpolargl": [
                      {
                        "marker": {
                          "colorbar": {
                            "outlinewidth": 0,
                            "ticks": ""
                          }
                        },
                        "type": "scatterpolargl"
                      }
                    ],
                    "scatterternary": [
                      {
                        "marker": {
                          "colorbar": {
                            "outlinewidth": 0,
                            "ticks": ""
                          }
                        },
                        "type": "scatterternary"
                      }
                    ],
                    "surface": [
                      {
                        "colorbar": {
                          "outlinewidth": 0,
                          "ticks": ""
                        },
                        "colorscale": [
                          [
                            0,
                            "#0d0887"
                          ],
                          [
                            0.1111111111111111,
                            "#46039f"
                          ],
                          [
                            0.2222222222222222,
                            "#7201a8"
                          ],
                          [
                            0.3333333333333333,
                            "#9c179e"
                          ],
                          [
                            0.4444444444444444,
                            "#bd3786"
                          ],
                          [
                            0.5555555555555556,
                            "#d8576b"
                          ],
                          [
                            0.6666666666666666,
                            "#ed7953"
                          ],
                          [
                            0.7777777777777778,
                            "#fb9f3a"
                          ],
                          [
                            0.8888888888888888,
                            "#fdca26"
                          ],
                          [
                            1,
                            "#f0f921"
                          ]
                        ],
                        "type": "surface"
                      }
                    ],
                    "table": [
                      {
                        "cells": {
                          "fill": {
                            "color": "#EBF0F8"
                          },
                          "line": {
                            "color": "white"
                          }
                        },
                        "header": {
                          "fill": {
                            "color": "#C8D4E3"
                          },
                          "line": {
                            "color": "white"
                          }
                        },
                        "type": "table"
                      }
                    ]
                  },
                  "layout": {
                    "annotationdefaults": {
                      "arrowcolor": "#2a3f5f",
                      "arrowhead": 0,
                      "arrowwidth": 1
                    },
                    "autotypenumbers": "strict",
                    "coloraxis": {
                      "colorbar": {
                        "outlinewidth": 0,
                        "ticks": ""
                      }
                    },
                    "colorscale": {
                      "diverging": [
                        [
                          0,
                          "#8e0152"
                        ],
                        [
                          0.1,
                          "#c51b7d"
                        ],
                        [
                          0.2,
                          "#de77ae"
                        ],
                        [
                          0.3,
                          "#f1b6da"
                        ],
                        [
                          0.4,
                          "#fde0ef"
                        ],
                        [
                          0.5,
                          "#f7f7f7"
                        ],
                        [
                          0.6,
                          "#e6f5d0"
                        ],
                        [
                          0.7,
                          "#b8e186"
                        ],
                        [
                          0.8,
                          "#7fbc41"
                        ],
                        [
                          0.9,
                          "#4d9221"
                        ],
                        [
                          1,
                          "#276419"
                        ]
                      ],
                      "sequential": [
                        [
                          0,
                          "#0d0887"
                        ],
                        [
                          0.1111111111111111,
                          "#46039f"
                        ],
                        [
                          0.2222222222222222,
                          "#7201a8"
                        ],
                        [
                          0.3333333333333333,
                          "#9c179e"
                        ],
                        [
                          0.4444444444444444,
                          "#bd3786"
                        ],
                        [
                          0.5555555555555556,
                          "#d8576b"
                        ],
                        [
                          0.6666666666666666,
                          "#ed7953"
                        ],
                        [
                          0.7777777777777778,
                          "#fb9f3a"
                        ],
                        [
                          0.8888888888888888,
                          "#fdca26"
                        ],
                        [
                          1,
                          "#f0f921"
                        ]
                      ],
                      "sequentialminus": [
                        [
                          0,
                          "#0d0887"
                        ],
                        [
                          0.1111111111111111,
                          "#46039f"
                        ],
                        [
                          0.2222222222222222,
                          "#7201a8"
                        ],
                        [
                          0.3333333333333333,
                          "#9c179e"
                        ],
                        [
                          0.4444444444444444,
                          "#bd3786"
                        ],
                        [
                          0.5555555555555556,
                          "#d8576b"
                        ],
                        [
                          0.6666666666666666,
                          "#ed7953"
                        ],
                        [
                          0.7777777777777778,
                          "#fb9f3a"
                        ],
                        [
                          0.8888888888888888,
                          "#fdca26"
                        ],
                        [
                          1,
                          "#f0f921"
                        ]
                      ]
                    },
                    "colorway": [
                      "#636efa",
                      "#EF553B",
                      "#00cc96",
                      "#ab63fa",
                      "#FFA15A",
                      "#19d3f3",
                      "#FF6692",
                      "#B6E880",
                      "#FF97FF",
                      "#FECB52"
                    ],
                    "font": {
                      "color": "#2a3f5f"
                    },
                    "geo": {
                      "bgcolor": "white",
                      "lakecolor": "white",
                      "landcolor": "#E5ECF6",
                      "showlakes": true,
                      "showland": true,
                      "subunitcolor": "white"
                    },
                    "hoverlabel": {
                      "align": "left"
                    },
                    "hovermode": "closest",
                    "mapbox": {
                      "style": "light"
                    },
                    "paper_bgcolor": "white",
                    "plot_bgcolor": "#E5ECF6",
                    "polar": {
                      "angularaxis": {
                        "gridcolor": "white",
                        "linecolor": "white",
                        "ticks": ""
                      },
                      "bgcolor": "#E5ECF6",
                      "radialaxis": {
                        "gridcolor": "white",
                        "linecolor": "white",
                        "ticks": ""
                      }
                    },
                    "scene": {
                      "xaxis": {
                        "backgroundcolor": "#E5ECF6",
                        "gridcolor": "white",
                        "gridwidth": 2,
                        "linecolor": "white",
                        "showbackground": true,
                        "ticks": "",
                        "zerolinecolor": "white"
                      },
                      "yaxis": {
                        "backgroundcolor": "#E5ECF6",
                        "gridcolor": "white",
                        "gridwidth": 2,
                        "linecolor": "white",
                        "showbackground": true,
                        "ticks": "",
                        "zerolinecolor": "white"
                      },
                      "zaxis": {
                        "backgroundcolor": "#E5ECF6",
                        "gridcolor": "white",
                        "gridwidth": 2,
                        "linecolor": "white",
                        "showbackground": true,
                        "ticks": "",
                        "zerolinecolor": "white"
                      }
                    },
                    "shapedefaults": {
                      "line": {
                        "color": "#2a3f5f"
                      }
                    },
                    "ternary": {
                      "aaxis": {
                        "gridcolor": "white",
                        "linecolor": "white",
                        "ticks": ""
                      },
                      "baxis": {
                        "gridcolor": "white",
                        "linecolor": "white",
                        "ticks": ""
                      },
                      "bgcolor": "#E5ECF6",
                      "caxis": {
                        "gridcolor": "white",
                        "linecolor": "white",
                        "ticks": ""
                      }
                    },
                    "title": {
                      "x": 0.05
                    },
                    "xaxis": {
                      "automargin": true,
                      "gridcolor": "white",
                      "linecolor": "white",
                      "ticks": "",
                      "title": {
                        "standoff": 15
                      },
                      "zerolinecolor": "white",
                      "zerolinewidth": 2
                    },
                    "yaxis": {
                      "automargin": true,
                      "gridcolor": "white",
                      "linecolor": "white",
                      "ticks": "",
                      "title": {
                        "standoff": 15
                      },
                      "zerolinecolor": "white",
                      "zerolinewidth": 2
                    }
                  }
                }
              }
            }
          },
          "metadata": {},
          "output_type": "display_data"
        }
      ],
      "source": [
        "import plotly.graph_objects as go\n",
        "grafPizza = go.Figure()\n",
        "grafPizza.add_trace(go.Pie(labels = labels, values = quant_colisoes, hoverinfo = 'label+percent', textinfo='percent+label',textfont=dict(size = 15)))"
      ]
    },
    {
      "cell_type": "code",
      "execution_count": 19,
      "metadata": {},
      "outputs": [
        {
          "name": "stdout",
          "output_type": "stream",
          "text": [
            "uf\n",
            "MG    3953\n",
            "SC    3871\n",
            "PR    3422\n",
            "RJ    2217\n",
            "RS    2175\n",
            "SP    2009\n",
            "BA    1663\n",
            "GO    1525\n",
            "ES    1276\n",
            "PE    1147\n",
            "MT    1064\n",
            "MS     754\n",
            "CE     714\n",
            "PB     682\n",
            "RO     678\n",
            "RN     624\n",
            "PI     530\n",
            "MA     530\n",
            "DF     476\n",
            "PA     405\n",
            "AL     281\n",
            "SE     265\n",
            "TO     247\n",
            "RR     137\n",
            "AC     121\n",
            "AP      83\n",
            "AM      52\n",
            "Name: count, dtype: int64\n"
          ]
        }
      ],
      "source": [
        "quant_acidentes_por_estado = df['uf'].value_counts()\n",
        "print(quant_acidentes_por_estado)"
      ]
    },
    {
      "cell_type": "code",
      "execution_count": 20,
      "metadata": {},
      "outputs": [],
      "source": [
        "tipo_acidente_por_estado = df.groupby('uf')['tipo_acidente'].value_counts().reset_index(name='count')"
      ]
    },
    {
      "cell_type": "code",
      "execution_count": 21,
      "metadata": {},
      "outputs": [
        {
          "data": {
            "text/html": [
              "<div>\n",
              "<style scoped>\n",
              "    .dataframe tbody tr th:only-of-type {\n",
              "        vertical-align: middle;\n",
              "    }\n",
              "\n",
              "    .dataframe tbody tr th {\n",
              "        vertical-align: top;\n",
              "    }\n",
              "\n",
              "    .dataframe thead th {\n",
              "        text-align: right;\n",
              "    }\n",
              "</style>\n",
              "<table border=\"1\" class=\"dataframe\">\n",
              "  <thead>\n",
              "    <tr style=\"text-align: right;\">\n",
              "      <th></th>\n",
              "      <th>uf</th>\n",
              "      <th>tipo_acidente</th>\n",
              "      <th>count</th>\n",
              "    </tr>\n",
              "  </thead>\n",
              "  <tbody>\n",
              "    <tr>\n",
              "      <th>0</th>\n",
              "      <td>AC</td>\n",
              "      <td>Saída de leito carroçável</td>\n",
              "      <td>29</td>\n",
              "    </tr>\n",
              "    <tr>\n",
              "      <th>1</th>\n",
              "      <td>AC</td>\n",
              "      <td>Colisão traseira</td>\n",
              "      <td>26</td>\n",
              "    </tr>\n",
              "    <tr>\n",
              "      <th>2</th>\n",
              "      <td>AC</td>\n",
              "      <td>Colisão transversal</td>\n",
              "      <td>11</td>\n",
              "    </tr>\n",
              "    <tr>\n",
              "      <th>3</th>\n",
              "      <td>AC</td>\n",
              "      <td>Colisão lateral mesmo sentido</td>\n",
              "      <td>10</td>\n",
              "    </tr>\n",
              "    <tr>\n",
              "      <th>4</th>\n",
              "      <td>AC</td>\n",
              "      <td>Tombamento</td>\n",
              "      <td>10</td>\n",
              "    </tr>\n",
              "    <tr>\n",
              "      <th>...</th>\n",
              "      <td>...</td>\n",
              "      <td>...</td>\n",
              "      <td>...</td>\n",
              "    </tr>\n",
              "    <tr>\n",
              "      <th>434</th>\n",
              "      <td>TO</td>\n",
              "      <td>Incêndio</td>\n",
              "      <td>7</td>\n",
              "    </tr>\n",
              "    <tr>\n",
              "      <th>435</th>\n",
              "      <td>TO</td>\n",
              "      <td>Atropelamento de Animal</td>\n",
              "      <td>6</td>\n",
              "    </tr>\n",
              "    <tr>\n",
              "      <th>436</th>\n",
              "      <td>TO</td>\n",
              "      <td>Eventos atípicos</td>\n",
              "      <td>6</td>\n",
              "    </tr>\n",
              "    <tr>\n",
              "      <th>437</th>\n",
              "      <td>TO</td>\n",
              "      <td>Colisão lateral</td>\n",
              "      <td>3</td>\n",
              "    </tr>\n",
              "    <tr>\n",
              "      <th>438</th>\n",
              "      <td>TO</td>\n",
              "      <td>Engavetamento</td>\n",
              "      <td>3</td>\n",
              "    </tr>\n",
              "  </tbody>\n",
              "</table>\n",
              "<p>439 rows × 3 columns</p>\n",
              "</div>"
            ],
            "text/plain": [
              "     uf                  tipo_acidente  count\n",
              "0    AC      Saída de leito carroçável     29\n",
              "1    AC               Colisão traseira     26\n",
              "2    AC            Colisão transversal     11\n",
              "3    AC  Colisão lateral mesmo sentido     10\n",
              "4    AC                     Tombamento     10\n",
              "..   ..                            ...    ...\n",
              "434  TO                       Incêndio      7\n",
              "435  TO        Atropelamento de Animal      6\n",
              "436  TO               Eventos atípicos      6\n",
              "437  TO                Colisão lateral      3\n",
              "438  TO                  Engavetamento      3\n",
              "\n",
              "[439 rows x 3 columns]"
            ]
          },
          "execution_count": 21,
          "metadata": {},
          "output_type": "execute_result"
        }
      ],
      "source": [
        "tipo_acidente_por_estado"
      ]
    },
    {
      "cell_type": "code",
      "execution_count": 32,
      "metadata": {},
      "outputs": [],
      "source": [
        "tipo_feridos_por_estado = df.groupby('uf')['feridos'].sum().reset_index(name = 'feridos')  ## O reset_index transforma series(dicionario / hash table) em dataframe"
      ]
    },
    {
      "cell_type": "code",
      "execution_count": 33,
      "metadata": {},
      "outputs": [
        {
          "data": {
            "text/html": [
              "<div>\n",
              "<style scoped>\n",
              "    .dataframe tbody tr th:only-of-type {\n",
              "        vertical-align: middle;\n",
              "    }\n",
              "\n",
              "    .dataframe tbody tr th {\n",
              "        vertical-align: top;\n",
              "    }\n",
              "\n",
              "    .dataframe thead th {\n",
              "        text-align: right;\n",
              "    }\n",
              "</style>\n",
              "<table border=\"1\" class=\"dataframe\">\n",
              "  <thead>\n",
              "    <tr style=\"text-align: right;\">\n",
              "      <th></th>\n",
              "      <th>uf</th>\n",
              "      <th>feridos</th>\n",
              "    </tr>\n",
              "  </thead>\n",
              "  <tbody>\n",
              "    <tr>\n",
              "      <th>0</th>\n",
              "      <td>AC</td>\n",
              "      <td>155</td>\n",
              "    </tr>\n",
              "    <tr>\n",
              "      <th>1</th>\n",
              "      <td>AL</td>\n",
              "      <td>285</td>\n",
              "    </tr>\n",
              "    <tr>\n",
              "      <th>2</th>\n",
              "      <td>AM</td>\n",
              "      <td>66</td>\n",
              "    </tr>\n",
              "    <tr>\n",
              "      <th>3</th>\n",
              "      <td>AP</td>\n",
              "      <td>121</td>\n",
              "    </tr>\n",
              "    <tr>\n",
              "      <th>4</th>\n",
              "      <td>BA</td>\n",
              "      <td>1931</td>\n",
              "    </tr>\n",
              "    <tr>\n",
              "      <th>5</th>\n",
              "      <td>CE</td>\n",
              "      <td>749</td>\n",
              "    </tr>\n",
              "    <tr>\n",
              "      <th>6</th>\n",
              "      <td>DF</td>\n",
              "      <td>502</td>\n",
              "    </tr>\n",
              "    <tr>\n",
              "      <th>7</th>\n",
              "      <td>ES</td>\n",
              "      <td>1523</td>\n",
              "    </tr>\n",
              "    <tr>\n",
              "      <th>8</th>\n",
              "      <td>GO</td>\n",
              "      <td>1679</td>\n",
              "    </tr>\n",
              "    <tr>\n",
              "      <th>9</th>\n",
              "      <td>MA</td>\n",
              "      <td>597</td>\n",
              "    </tr>\n",
              "    <tr>\n",
              "      <th>10</th>\n",
              "      <td>MG</td>\n",
              "      <td>4657</td>\n",
              "    </tr>\n",
              "    <tr>\n",
              "      <th>11</th>\n",
              "      <td>MS</td>\n",
              "      <td>818</td>\n",
              "    </tr>\n",
              "    <tr>\n",
              "      <th>12</th>\n",
              "      <td>MT</td>\n",
              "      <td>1158</td>\n",
              "    </tr>\n",
              "    <tr>\n",
              "      <th>13</th>\n",
              "      <td>PA</td>\n",
              "      <td>480</td>\n",
              "    </tr>\n",
              "    <tr>\n",
              "      <th>14</th>\n",
              "      <td>PB</td>\n",
              "      <td>721</td>\n",
              "    </tr>\n",
              "    <tr>\n",
              "      <th>15</th>\n",
              "      <td>PE</td>\n",
              "      <td>1260</td>\n",
              "    </tr>\n",
              "    <tr>\n",
              "      <th>16</th>\n",
              "      <td>PI</td>\n",
              "      <td>542</td>\n",
              "    </tr>\n",
              "    <tr>\n",
              "      <th>17</th>\n",
              "      <td>PR</td>\n",
              "      <td>3655</td>\n",
              "    </tr>\n",
              "    <tr>\n",
              "      <th>18</th>\n",
              "      <td>RJ</td>\n",
              "      <td>2423</td>\n",
              "    </tr>\n",
              "    <tr>\n",
              "      <th>19</th>\n",
              "      <td>RN</td>\n",
              "      <td>666</td>\n",
              "    </tr>\n",
              "    <tr>\n",
              "      <th>20</th>\n",
              "      <td>RO</td>\n",
              "      <td>677</td>\n",
              "    </tr>\n",
              "    <tr>\n",
              "      <th>21</th>\n",
              "      <td>RR</td>\n",
              "      <td>131</td>\n",
              "    </tr>\n",
              "    <tr>\n",
              "      <th>22</th>\n",
              "      <td>RS</td>\n",
              "      <td>2369</td>\n",
              "    </tr>\n",
              "    <tr>\n",
              "      <th>23</th>\n",
              "      <td>SC</td>\n",
              "      <td>4307</td>\n",
              "    </tr>\n",
              "    <tr>\n",
              "      <th>24</th>\n",
              "      <td>SE</td>\n",
              "      <td>289</td>\n",
              "    </tr>\n",
              "    <tr>\n",
              "      <th>25</th>\n",
              "      <td>SP</td>\n",
              "      <td>2034</td>\n",
              "    </tr>\n",
              "    <tr>\n",
              "      <th>26</th>\n",
              "      <td>TO</td>\n",
              "      <td>257</td>\n",
              "    </tr>\n",
              "  </tbody>\n",
              "</table>\n",
              "</div>"
            ],
            "text/plain": [
              "    uf  feridos\n",
              "0   AC      155\n",
              "1   AL      285\n",
              "2   AM       66\n",
              "3   AP      121\n",
              "4   BA     1931\n",
              "5   CE      749\n",
              "6   DF      502\n",
              "7   ES     1523\n",
              "8   GO     1679\n",
              "9   MA      597\n",
              "10  MG     4657\n",
              "11  MS      818\n",
              "12  MT     1158\n",
              "13  PA      480\n",
              "14  PB      721\n",
              "15  PE     1260\n",
              "16  PI      542\n",
              "17  PR     3655\n",
              "18  RJ     2423\n",
              "19  RN      666\n",
              "20  RO      677\n",
              "21  RR      131\n",
              "22  RS     2369\n",
              "23  SC     4307\n",
              "24  SE      289\n",
              "25  SP     2034\n",
              "26  TO      257"
            ]
          },
          "execution_count": 33,
          "metadata": {},
          "output_type": "execute_result"
        }
      ],
      "source": [
        "tipo_feridos_por_estado"
      ]
    },
    {
      "cell_type": "code",
      "execution_count": null,
      "metadata": {},
      "outputs": [
        {
          "data": {
            "text/html": [
              "<div>\n",
              "<style scoped>\n",
              "    .dataframe tbody tr th:only-of-type {\n",
              "        vertical-align: middle;\n",
              "    }\n",
              "\n",
              "    .dataframe tbody tr th {\n",
              "        vertical-align: top;\n",
              "    }\n",
              "\n",
              "    .dataframe thead th {\n",
              "        text-align: right;\n",
              "    }\n",
              "</style>\n",
              "<table border=\"1\" class=\"dataframe\">\n",
              "  <thead>\n",
              "    <tr style=\"text-align: right;\">\n",
              "      <th></th>\n",
              "      <th>uf</th>\n",
              "      <th>feridos</th>\n",
              "    </tr>\n",
              "  </thead>\n",
              "  <tbody>\n",
              "    <tr>\n",
              "      <th>10</th>\n",
              "      <td>MG</td>\n",
              "      <td>4657</td>\n",
              "    </tr>\n",
              "    <tr>\n",
              "      <th>23</th>\n",
              "      <td>SC</td>\n",
              "      <td>4307</td>\n",
              "    </tr>\n",
              "    <tr>\n",
              "      <th>17</th>\n",
              "      <td>PR</td>\n",
              "      <td>3655</td>\n",
              "    </tr>\n",
              "    <tr>\n",
              "      <th>18</th>\n",
              "      <td>RJ</td>\n",
              "      <td>2423</td>\n",
              "    </tr>\n",
              "    <tr>\n",
              "      <th>22</th>\n",
              "      <td>RS</td>\n",
              "      <td>2369</td>\n",
              "    </tr>\n",
              "    <tr>\n",
              "      <th>25</th>\n",
              "      <td>SP</td>\n",
              "      <td>2034</td>\n",
              "    </tr>\n",
              "    <tr>\n",
              "      <th>4</th>\n",
              "      <td>BA</td>\n",
              "      <td>1931</td>\n",
              "    </tr>\n",
              "    <tr>\n",
              "      <th>8</th>\n",
              "      <td>GO</td>\n",
              "      <td>1679</td>\n",
              "    </tr>\n",
              "    <tr>\n",
              "      <th>7</th>\n",
              "      <td>ES</td>\n",
              "      <td>1523</td>\n",
              "    </tr>\n",
              "    <tr>\n",
              "      <th>15</th>\n",
              "      <td>PE</td>\n",
              "      <td>1260</td>\n",
              "    </tr>\n",
              "    <tr>\n",
              "      <th>12</th>\n",
              "      <td>MT</td>\n",
              "      <td>1158</td>\n",
              "    </tr>\n",
              "    <tr>\n",
              "      <th>11</th>\n",
              "      <td>MS</td>\n",
              "      <td>818</td>\n",
              "    </tr>\n",
              "    <tr>\n",
              "      <th>5</th>\n",
              "      <td>CE</td>\n",
              "      <td>749</td>\n",
              "    </tr>\n",
              "    <tr>\n",
              "      <th>14</th>\n",
              "      <td>PB</td>\n",
              "      <td>721</td>\n",
              "    </tr>\n",
              "    <tr>\n",
              "      <th>20</th>\n",
              "      <td>RO</td>\n",
              "      <td>677</td>\n",
              "    </tr>\n",
              "    <tr>\n",
              "      <th>19</th>\n",
              "      <td>RN</td>\n",
              "      <td>666</td>\n",
              "    </tr>\n",
              "    <tr>\n",
              "      <th>9</th>\n",
              "      <td>MA</td>\n",
              "      <td>597</td>\n",
              "    </tr>\n",
              "    <tr>\n",
              "      <th>16</th>\n",
              "      <td>PI</td>\n",
              "      <td>542</td>\n",
              "    </tr>\n",
              "    <tr>\n",
              "      <th>6</th>\n",
              "      <td>DF</td>\n",
              "      <td>502</td>\n",
              "    </tr>\n",
              "    <tr>\n",
              "      <th>13</th>\n",
              "      <td>PA</td>\n",
              "      <td>480</td>\n",
              "    </tr>\n",
              "    <tr>\n",
              "      <th>24</th>\n",
              "      <td>SE</td>\n",
              "      <td>289</td>\n",
              "    </tr>\n",
              "    <tr>\n",
              "      <th>1</th>\n",
              "      <td>AL</td>\n",
              "      <td>285</td>\n",
              "    </tr>\n",
              "    <tr>\n",
              "      <th>26</th>\n",
              "      <td>TO</td>\n",
              "      <td>257</td>\n",
              "    </tr>\n",
              "    <tr>\n",
              "      <th>0</th>\n",
              "      <td>AC</td>\n",
              "      <td>155</td>\n",
              "    </tr>\n",
              "    <tr>\n",
              "      <th>21</th>\n",
              "      <td>RR</td>\n",
              "      <td>131</td>\n",
              "    </tr>\n",
              "    <tr>\n",
              "      <th>3</th>\n",
              "      <td>AP</td>\n",
              "      <td>121</td>\n",
              "    </tr>\n",
              "    <tr>\n",
              "      <th>2</th>\n",
              "      <td>AM</td>\n",
              "      <td>66</td>\n",
              "    </tr>\n",
              "  </tbody>\n",
              "</table>\n",
              "</div>"
            ],
            "text/plain": [
              "    uf  feridos\n",
              "10  MG     4657\n",
              "23  SC     4307\n",
              "17  PR     3655\n",
              "18  RJ     2423\n",
              "22  RS     2369\n",
              "25  SP     2034\n",
              "4   BA     1931\n",
              "8   GO     1679\n",
              "7   ES     1523\n",
              "15  PE     1260\n",
              "12  MT     1158\n",
              "11  MS      818\n",
              "5   CE      749\n",
              "14  PB      721\n",
              "20  RO      677\n",
              "19  RN      666\n",
              "9   MA      597\n",
              "16  PI      542\n",
              "6   DF      502\n",
              "13  PA      480\n",
              "24  SE      289\n",
              "1   AL      285\n",
              "26  TO      257\n",
              "0   AC      155\n",
              "21  RR      131\n",
              "3   AP      121\n",
              "2   AM       66"
            ]
          },
          "execution_count": 35,
          "metadata": {},
          "output_type": "execute_result"
        }
      ],
      "source": [
        "tipo_feridos_por_estado.sort_values('feridos', ascending=False) ## por ter transformado em dataframe já é possível utilizar o sort_values normalmente"
      ]
    }
  ],
  "metadata": {
    "colab": {
      "provenance": []
    },
    "kernelspec": {
      "display_name": "Python 3",
      "name": "python3"
    },
    "language_info": {
      "codemirror_mode": {
        "name": "ipython",
        "version": 3
      },
      "file_extension": ".py",
      "mimetype": "text/x-python",
      "name": "python",
      "nbconvert_exporter": "python",
      "pygments_lexer": "ipython3",
      "version": "3.12.1"
    }
  },
  "nbformat": 4,
  "nbformat_minor": 0
}
